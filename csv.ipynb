{
 "cells": [
  {
   "cell_type": "code",
   "execution_count": 9,
   "id": "89e1178f",
   "metadata": {},
   "outputs": [
    {
     "name": "stdout",
     "output_type": "stream",
     "text": [
      "['234.5', '6352.89', '1', '97.60']\n",
      "['4251.54', '32.23', '456.1']\n",
      "['2', '3', '4.0']\n",
      "['65', '44', '12.3']\n",
      "['02', '34.56', '65.43']\n",
      "['21.34', '6754.75', '1.23']\n",
      "['7']\n",
      "['321', '3', '5', '67.5']\n",
      "['649.3', '25.64', '5']\n",
      "['0']\n"
     ]
    }
   ],
   "source": [
    "with open(\"deposits.csv\") as f:\n",
    "    for line in f:\n",
    "        line=line.strip()\n",
    "        line_lis=line.split(\",\")\n",
    "        if len(line_lis)>1:\n",
    "            line_lis=line_lis[1:]\n",
    "            print(line_lis)\n",
    "        else:\n",
    "            print(line_lis)"
   ]
  },
  {
   "cell_type": "code",
   "execution_count": null,
   "id": "2f27030c",
   "metadata": {},
   "outputs": [],
   "source": []
  }
 ],
 "metadata": {
  "kernelspec": {
   "display_name": "Python 3 (ipykernel)",
   "language": "python",
   "name": "python3"
  },
  "language_info": {
   "codemirror_mode": {
    "name": "ipython",
    "version": 3
   },
   "file_extension": ".py",
   "mimetype": "text/x-python",
   "name": "python",
   "nbconvert_exporter": "python",
   "pygments_lexer": "ipython3",
   "version": "3.9.13"
  }
 },
 "nbformat": 4,
 "nbformat_minor": 5
}
